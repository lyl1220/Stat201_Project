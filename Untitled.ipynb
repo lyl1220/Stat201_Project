{
 "cells": [
  {
   "cell_type": "code",
   "execution_count": 14,
   "id": "131c46d2-6483-4fe1-b10e-7764916bea5b",
   "metadata": {},
   "outputs": [],
   "source": [
    "### Loading necessary libraries needed to tidy and wrangle our dataset. \n",
    "library(tidyverse)\n",
    "library(repr)\n",
    "library(tidymodels)\n",
    "options(repr.matrix.max.rows = 6)"
   ]
  },
  {
   "cell_type": "code",
   "execution_count": 15,
   "id": "f96a20a7-a5c7-4ce0-bc1a-a03ccd2414fb",
   "metadata": {},
   "outputs": [],
   "source": [
    "#Intro\n",
    "#Clearly state the question you will try to answer with your project. Your question should involve one or more random variables of interest, spread across two or more categories that are interesting to compare. For example, you could consider the annual maxima river flow at two different locations along a river, or perhaps gender diversity at different universities. Of the response variable, identify one location parameter (mean, median, quantile, etc.) and one scale parameter (standard deviation, inter-quartile range, etc.) that would be useful in answering your question. Justify your choices.\n",
    "\n"
   ]
  },
  {
   "cell_type": "code",
   "execution_count": null,
   "id": "56bcaa4c-6b89-4d40-84dd-8950a1779f74",
   "metadata": {},
   "outputs": [],
   "source": []
  },
  {
   "cell_type": "code",
   "execution_count": 13,
   "id": "2a0fb013-3535-4f57-8bc8-c2a8cb5ef4d7",
   "metadata": {},
   "outputs": [
    {
     "data": {
      "text/html": [
       "<table class=\"dataframe\">\n",
       "<caption>A data.frame: 177 × 14</caption>\n",
       "<thead>\n",
       "\t<tr><th scope=col>class</th><th scope=col>alchol</th><th scope=col>malic_acid</th><th scope=col>ash</th><th scope=col>alcalinity_of_ash</th><th scope=col>magnesium</th><th scope=col>total_phenols</th><th scope=col>flavanoids</th><th scope=col>nonflavanoid_phenols</th><th scope=col>proanthocyanins</th><th scope=col>color_intensity</th><th scope=col>hue</th><th scope=col>D280_diltued_wines</th><th scope=col>proline</th></tr>\n",
       "\t<tr><th scope=col>&lt;int&gt;</th><th scope=col>&lt;dbl&gt;</th><th scope=col>&lt;dbl&gt;</th><th scope=col>&lt;dbl&gt;</th><th scope=col>&lt;dbl&gt;</th><th scope=col>&lt;int&gt;</th><th scope=col>&lt;dbl&gt;</th><th scope=col>&lt;dbl&gt;</th><th scope=col>&lt;dbl&gt;</th><th scope=col>&lt;dbl&gt;</th><th scope=col>&lt;dbl&gt;</th><th scope=col>&lt;dbl&gt;</th><th scope=col>&lt;dbl&gt;</th><th scope=col>&lt;int&gt;</th></tr>\n",
       "</thead>\n",
       "<tbody>\n",
       "\t<tr><td>1</td><td>13.20</td><td>1.78</td><td>2.14</td><td>11.2</td><td>100</td><td>2.65</td><td>2.76</td><td>0.26</td><td>1.28</td><td>4.38</td><td>1.05</td><td>3.40</td><td>1050</td></tr>\n",
       "\t<tr><td>1</td><td>13.16</td><td>2.36</td><td>2.67</td><td>18.6</td><td>101</td><td>2.80</td><td>3.24</td><td>0.30</td><td>2.81</td><td>5.68</td><td>1.03</td><td>3.17</td><td>1185</td></tr>\n",
       "\t<tr><td>1</td><td>14.37</td><td>1.95</td><td>2.50</td><td>16.8</td><td>113</td><td>3.85</td><td>3.49</td><td>0.24</td><td>2.18</td><td>7.80</td><td>0.86</td><td>3.45</td><td>1480</td></tr>\n",
       "\t<tr><td>⋮</td><td>⋮</td><td>⋮</td><td>⋮</td><td>⋮</td><td>⋮</td><td>⋮</td><td>⋮</td><td>⋮</td><td>⋮</td><td>⋮</td><td>⋮</td><td>⋮</td><td>⋮</td></tr>\n",
       "\t<tr><td>3</td><td>13.27</td><td>4.28</td><td>2.26</td><td>20.0</td><td>120</td><td>1.59</td><td>0.69</td><td>0.43</td><td>1.35</td><td>10.2</td><td>0.59</td><td>1.56</td><td>835</td></tr>\n",
       "\t<tr><td>3</td><td>13.17</td><td>2.59</td><td>2.37</td><td>20.0</td><td>120</td><td>1.65</td><td>0.68</td><td>0.53</td><td>1.46</td><td> 9.3</td><td>0.60</td><td>1.62</td><td>840</td></tr>\n",
       "\t<tr><td>3</td><td>14.13</td><td>4.10</td><td>2.74</td><td>24.5</td><td> 96</td><td>2.05</td><td>0.76</td><td>0.56</td><td>1.35</td><td> 9.2</td><td>0.61</td><td>1.60</td><td>560</td></tr>\n",
       "</tbody>\n",
       "</table>\n"
      ],
      "text/latex": [
       "A data.frame: 177 × 14\n",
       "\\begin{tabular}{llllllllllllll}\n",
       " class & alchol & malic\\_acid & ash & alcalinity\\_of\\_ash & magnesium & total\\_phenols & flavanoids & nonflavanoid\\_phenols & proanthocyanins & color\\_intensity & hue & D280\\_diltued\\_wines & proline\\\\\n",
       " <int> & <dbl> & <dbl> & <dbl> & <dbl> & <int> & <dbl> & <dbl> & <dbl> & <dbl> & <dbl> & <dbl> & <dbl> & <int>\\\\\n",
       "\\hline\n",
       "\t 1 & 13.20 & 1.78 & 2.14 & 11.2 & 100 & 2.65 & 2.76 & 0.26 & 1.28 & 4.38 & 1.05 & 3.40 & 1050\\\\\n",
       "\t 1 & 13.16 & 2.36 & 2.67 & 18.6 & 101 & 2.80 & 3.24 & 0.30 & 2.81 & 5.68 & 1.03 & 3.17 & 1185\\\\\n",
       "\t 1 & 14.37 & 1.95 & 2.50 & 16.8 & 113 & 3.85 & 3.49 & 0.24 & 2.18 & 7.80 & 0.86 & 3.45 & 1480\\\\\n",
       "\t ⋮ & ⋮ & ⋮ & ⋮ & ⋮ & ⋮ & ⋮ & ⋮ & ⋮ & ⋮ & ⋮ & ⋮ & ⋮ & ⋮\\\\\n",
       "\t 3 & 13.27 & 4.28 & 2.26 & 20.0 & 120 & 1.59 & 0.69 & 0.43 & 1.35 & 10.2 & 0.59 & 1.56 & 835\\\\\n",
       "\t 3 & 13.17 & 2.59 & 2.37 & 20.0 & 120 & 1.65 & 0.68 & 0.53 & 1.46 &  9.3 & 0.60 & 1.62 & 840\\\\\n",
       "\t 3 & 14.13 & 4.10 & 2.74 & 24.5 &  96 & 2.05 & 0.76 & 0.56 & 1.35 &  9.2 & 0.61 & 1.60 & 560\\\\\n",
       "\\end{tabular}\n"
      ],
      "text/markdown": [
       "\n",
       "A data.frame: 177 × 14\n",
       "\n",
       "| class &lt;int&gt; | alchol &lt;dbl&gt; | malic_acid &lt;dbl&gt; | ash &lt;dbl&gt; | alcalinity_of_ash &lt;dbl&gt; | magnesium &lt;int&gt; | total_phenols &lt;dbl&gt; | flavanoids &lt;dbl&gt; | nonflavanoid_phenols &lt;dbl&gt; | proanthocyanins &lt;dbl&gt; | color_intensity &lt;dbl&gt; | hue &lt;dbl&gt; | D280_diltued_wines &lt;dbl&gt; | proline &lt;int&gt; |\n",
       "|---|---|---|---|---|---|---|---|---|---|---|---|---|---|\n",
       "| 1 | 13.20 | 1.78 | 2.14 | 11.2 | 100 | 2.65 | 2.76 | 0.26 | 1.28 | 4.38 | 1.05 | 3.40 | 1050 |\n",
       "| 1 | 13.16 | 2.36 | 2.67 | 18.6 | 101 | 2.80 | 3.24 | 0.30 | 2.81 | 5.68 | 1.03 | 3.17 | 1185 |\n",
       "| 1 | 14.37 | 1.95 | 2.50 | 16.8 | 113 | 3.85 | 3.49 | 0.24 | 2.18 | 7.80 | 0.86 | 3.45 | 1480 |\n",
       "| ⋮ | ⋮ | ⋮ | ⋮ | ⋮ | ⋮ | ⋮ | ⋮ | ⋮ | ⋮ | ⋮ | ⋮ | ⋮ | ⋮ |\n",
       "| 3 | 13.27 | 4.28 | 2.26 | 20.0 | 120 | 1.59 | 0.69 | 0.43 | 1.35 | 10.2 | 0.59 | 1.56 | 835 |\n",
       "| 3 | 13.17 | 2.59 | 2.37 | 20.0 | 120 | 1.65 | 0.68 | 0.53 | 1.46 |  9.3 | 0.60 | 1.62 | 840 |\n",
       "| 3 | 14.13 | 4.10 | 2.74 | 24.5 |  96 | 2.05 | 0.76 | 0.56 | 1.35 |  9.2 | 0.61 | 1.60 | 560 |\n",
       "\n"
      ],
      "text/plain": [
       "    class alchol malic_acid ash  alcalinity_of_ash magnesium total_phenols\n",
       "1   1     13.20  1.78       2.14 11.2              100       2.65         \n",
       "2   1     13.16  2.36       2.67 18.6              101       2.80         \n",
       "3   1     14.37  1.95       2.50 16.8              113       3.85         \n",
       "⋮   ⋮     ⋮      ⋮          ⋮    ⋮                 ⋮         ⋮            \n",
       "175 3     13.27  4.28       2.26 20.0              120       1.59         \n",
       "176 3     13.17  2.59       2.37 20.0              120       1.65         \n",
       "177 3     14.13  4.10       2.74 24.5               96       2.05         \n",
       "    flavanoids nonflavanoid_phenols proanthocyanins color_intensity hue \n",
       "1   2.76       0.26                 1.28            4.38            1.05\n",
       "2   3.24       0.30                 2.81            5.68            1.03\n",
       "3   3.49       0.24                 2.18            7.80            0.86\n",
       "⋮   ⋮          ⋮                    ⋮               ⋮               ⋮   \n",
       "175 0.69       0.43                 1.35            10.2            0.59\n",
       "176 0.68       0.53                 1.46             9.3            0.60\n",
       "177 0.76       0.56                 1.35             9.2            0.61\n",
       "    D280_diltued_wines proline\n",
       "1   3.40               1050   \n",
       "2   3.17               1185   \n",
       "3   3.45               1480   \n",
       "⋮   ⋮                  ⋮      \n",
       "175 1.56               835    \n",
       "176 1.62               840    \n",
       "177 1.60               560    "
      ]
     },
     "metadata": {},
     "output_type": "display_data"
    }
   ],
   "source": [
    "dataset <- read.csv(\"https://raw.githubusercontent.com/lyl1220/Stat201_Project/main/wine.data\")\n",
    "#renaming columns \n",
    "colnames(dataset) <- c(\"class\", \"alchol\", \"malic_acid\", \"ash\", \"alcalinity_of_ash\", \"magnesium\", \"total_phenols\", \"flavanoids\", \"nonflavanoid_phenols\", \"proanthocyanins\",\n",
    "           \"color_intensity\", \"hue\", \"D280_diltued_wines\", \"proline\")\n",
    "dataset "
   ]
  },
  {
   "cell_type": "code",
   "execution_count": null,
   "id": "acb84412-53c7-4667-81a7-d4a3ca0893f9",
   "metadata": {},
   "outputs": [],
   "source": []
  },
  {
   "cell_type": "code",
   "execution_count": null,
   "id": "fced2d57-4eb4-4de7-ad73-a2ffb7b9d025",
   "metadata": {},
   "outputs": [],
   "source": []
  }
 ],
 "metadata": {
  "kernelspec": {
   "display_name": "R",
   "language": "R",
   "name": "ir"
  },
  "language_info": {
   "codemirror_mode": "r",
   "file_extension": ".r",
   "mimetype": "text/x-r-source",
   "name": "R",
   "pygments_lexer": "r",
   "version": "4.1.3"
  }
 },
 "nbformat": 4,
 "nbformat_minor": 5
}
